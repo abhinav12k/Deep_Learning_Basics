{
  "nbformat": 4,
  "nbformat_minor": 0,
  "metadata": {
    "colab": {
      "name": "ANN from scratch.ipynb",
      "provenance": []
    },
    "kernelspec": {
      "name": "python3",
      "display_name": "Python 3"
    }
  },
  "cells": [
    {
      "cell_type": "code",
      "metadata": {
        "id": "RMoNXGNCdZtK",
        "outputId": "a91b3c55-6568-4269-af0d-89979b073781",
        "colab": {
          "base_uri": "https://localhost:8080/",
          "height": 34
        }
      },
      "source": [
        "import math\n",
        "\n",
        "def sigmoid(x):\n",
        "  return 1.0 / (1+ math.exp(-x))\n",
        "\n",
        "def activate(inputs,weights):\n",
        "  h = 0\n",
        "\n",
        "  # perform net input\n",
        "  for x,w in zip(inputs,weights):\n",
        "    h += x*w\n",
        "  \n",
        "  #perform activation\n",
        "  return sigmoid(h)\n",
        "\n",
        "\n",
        "if __name__ == \"__main__\":\n",
        "  inputs = [0.5,0.3,0.2]\n",
        "  weights = [0.4,0.7,0.2]\n",
        "  output = activate(inputs,weights)\n",
        "  print(output)\n"
      ],
      "execution_count": null,
      "outputs": [
        {
          "output_type": "stream",
          "text": [
            "0.610639233949222\n"
          ],
          "name": "stdout"
        }
      ]
    }
  ]
}