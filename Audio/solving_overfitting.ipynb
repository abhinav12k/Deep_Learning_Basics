{
 "cells": [
  {
   "cell_type": "code",
   "execution_count": 2,
   "metadata": {},
   "outputs": [],
   "source": [
    "import json\n",
    "import numpy as np\n",
    "from sklearn.model_selection import train_test_split\n",
    "import tensorflow.keras as keras\n",
    "import matplotlib.pyplot as plt"
   ]
  },
  {
   "cell_type": "code",
   "execution_count": 3,
   "metadata": {},
   "outputs": [],
   "source": [
    "# path to json file that stores MFCCs and genre labels for each processed segment\n",
    "DATA_PATH = \"data.json\""
   ]
  },
  {
   "cell_type": "code",
   "execution_count": 4,
   "metadata": {},
   "outputs": [],
   "source": [
    "def load_data(data_path):\n",
    "    \"\"\"Loads training dataset from json file.\n",
    "        :param data_path (str): Path to json file containing data\n",
    "        :return X (ndarray): Inputs\n",
    "        :return y (ndarray): Targets\n",
    "    \"\"\"\n",
    "\n",
    "    with open(data_path, \"r\") as fp:\n",
    "        data = json.load(fp)\n",
    "\n",
    "    # convert lists to numpy arrays\n",
    "    X = np.array(data[\"mfcc\"])\n",
    "    y = np.array(data[\"labels\"])\n",
    "\n",
    "    print(\"Data succesfully loaded!\")\n",
    "\n",
    "    return X, y"
   ]
  },
  {
   "cell_type": "code",
   "execution_count": 5,
   "metadata": {},
   "outputs": [],
   "source": [
    "def plot_history(history):\n",
    "    \"\"\"Plots accuracy/loss for training/validation set as a function of the epochs\n",
    "        :param history: Training history of model\n",
    "        :return:\n",
    "    \"\"\"\n",
    "    \n",
    "    fig,axis = plt.subplots(2)\n",
    "    \n",
    "    #create accuracy subplot\n",
    "    axis[0].plot(history.history[\"accuracy\"],label = \"train accuracy\")\n",
    "    axis[0].plot(history.history[\"val_accuracy\"],label = \"test accuracy\")\n",
    "    axis[0].set_ylabel(\"accuracy\")\n",
    "    axis[0].legend(loc=\"lower right\")\n",
    "    axis[0].set_title(\"Accuracy eval\")\n",
    "    \n",
    "    #create error subplot\n",
    "    axis[1].plot(history.history[\"loss\"],label = \"train error\")\n",
    "    axis[1].plot(history.history[\"val_loss\"],label = \"test error\")\n",
    "    axis[1].set_ylabel(\"Error\")\n",
    "    axis[1].set_xlabel(\"Epoch\")\n",
    "    axis[1].legend(loc=\"upper right\")\n",
    "    axis[1].set_title(\"Error eval\")\n",
    "    \n",
    "    plt.show()"
   ]
  },
  {
   "cell_type": "code",
   "execution_count": 6,
   "metadata": {},
   "outputs": [
    {
     "name": "stdout",
     "output_type": "stream",
     "text": [
      "Data succesfully loaded!\n",
      "Model: \"sequential\"\n",
      "_________________________________________________________________\n",
      "Layer (type)                 Output Shape              Param #   \n",
      "=================================================================\n",
      "flatten (Flatten)            (None, 8720)              0         \n",
      "_________________________________________________________________\n",
      "dense (Dense)                (None, 512)               4465152   \n",
      "_________________________________________________________________\n",
      "dropout (Dropout)            (None, 512)               0         \n",
      "_________________________________________________________________\n",
      "dense_1 (Dense)              (None, 256)               131328    \n",
      "_________________________________________________________________\n",
      "dropout_1 (Dropout)          (None, 256)               0         \n",
      "_________________________________________________________________\n",
      "dense_2 (Dense)              (None, 64)                16448     \n",
      "_________________________________________________________________\n",
      "dropout_2 (Dropout)          (None, 64)                0         \n",
      "_________________________________________________________________\n",
      "dense_3 (Dense)              (None, 10)                650       \n",
      "=================================================================\n",
      "Total params: 4,613,578\n",
      "Trainable params: 4,613,578\n",
      "Non-trainable params: 0\n",
      "_________________________________________________________________\n",
      "Epoch 1/10\n",
      "219/219 [==============================] - 16s 74ms/step - loss: 15.6052 - accuracy: 0.1702 - val_loss: 3.5607 - val_accuracy: 0.2638\n",
      "Epoch 2/10\n",
      "219/219 [==============================] - 17s 80ms/step - loss: 3.9893 - accuracy: 0.1618 - val_loss: 3.4384 - val_accuracy: 0.2865\n",
      "Epoch 3/10\n",
      "219/219 [==============================] - 20s 93ms/step - loss: 3.7246 - accuracy: 0.2023 - val_loss: 3.3576 - val_accuracy: 0.3179\n",
      "Epoch 4/10\n",
      "219/219 [==============================] - 18s 81ms/step - loss: 3.5499 - accuracy: 0.2428 - val_loss: 3.3029 - val_accuracy: 0.3245\n",
      "Epoch 5/10\n",
      "219/219 [==============================] - 15s 67ms/step - loss: 3.4972 - accuracy: 0.2522 - val_loss: 3.2812 - val_accuracy: 0.3312\n",
      "Epoch 6/10\n",
      "219/219 [==============================] - 17s 79ms/step - loss: 3.4300 - accuracy: 0.2651 - val_loss: 3.2941 - val_accuracy: 0.3119\n",
      "Epoch 7/10\n",
      "219/219 [==============================] - 18s 80ms/step - loss: 3.4888 - accuracy: 0.2286 - val_loss: 3.3372 - val_accuracy: 0.2835\n",
      "Epoch 8/10\n",
      "219/219 [==============================] - 17s 79ms/step - loss: 3.3947 - accuracy: 0.2589 - val_loss: 3.3395 - val_accuracy: 0.2758\n",
      "Epoch 9/10\n",
      "219/219 [==============================] - 15s 68ms/step - loss: 3.3490 - accuracy: 0.2770 - val_loss: 3.2175 - val_accuracy: 0.3112\n",
      "Epoch 10/10\n",
      "219/219 [==============================] - 14s 63ms/step - loss: 3.3079 - accuracy: 0.2816 - val_loss: 3.1809 - val_accuracy: 0.3285\n"
     ]
    },
    {
     "data": {
      "image/png": "[encoded data removed]",
      "text/plain": [
       "<Figure size 432x288 with 2 Axes>"
      ]
     },
     "metadata": {
      "needs_background": "light"
     },
     "output_type": "display_data"
    }
   ],
   "source": [
    "if __name__ == \"__main__\":\n",
    "\n",
    "    # load data\n",
    "    X, y = load_data(DATA_PATH)\n",
    "\n",
    "    # create train/test split\n",
    "    X_train, X_test, y_train, y_test = train_test_split(X, y, test_size=0.3)\n",
    "\n",
    "    # build network topology\n",
    "    model = keras.Sequential([\n",
    "\n",
    "        # input layer\n",
    "        keras.layers.Flatten(input_shape=(X.shape[1], X.shape[2])),\n",
    "\n",
    "        # 1st dense layer\n",
    "        keras.layers.Dense(512, activation='relu', kernel_regularizer=keras.regularizers.l2(0.001)),\n",
    "        keras.layers.Dropout(0.3),\n",
    "\n",
    "        # 2nd dense layer\n",
    "        keras.layers.Dense(256, activation='relu', kernel_regularizer=keras.regularizers.l2(0.001)),\n",
    "        keras.layers.Dropout(0.3),\n",
    "\n",
    "        # 3rd dense layer\n",
    "        keras.layers.Dense(64, activation='relu', kernel_regularizer=keras.regularizers.l2(0.001)),\n",
    "        keras.layers.Dropout(0.3),\n",
    "\n",
    "        # output layer\n",
    "        keras.layers.Dense(10, activation='softmax')\n",
    "    ])\n",
    "\n",
    "    # compile model\n",
    "    optimiser = keras.optimizers.Adam(learning_rate=0.0001)\n",
    "    model.compile(optimizer=optimiser,\n",
    "                  loss='sparse_categorical_crossentropy',\n",
    "                  metrics=['accuracy'])\n",
    "\n",
    "    model.summary()\n",
    "\n",
    "    # train model\n",
    "    history = model.fit(X_train, y_train, validation_data=(X_test, y_test), batch_size=32, epochs=10)\n",
    "\n",
    "    # plot accuracy and error as a function of the epochs\n",
    "    plot_history(history)"
   ]
  },
  {
   "cell_type": "code",
   "execution_count": null,
   "metadata": {},
   "outputs": [],
   "source": []
  }
 ],
 "metadata": {
  "kernelspec": {
   "display_name": "Python 3",
   "language": "python",
   "name": "python3"
  },
  "language_info": {
   "codemirror_mode": {
    "name": "ipython",
    "version": 3
   },
   "file_extension": ".py",
   "mimetype": "text/x-python",
   "name": "python",
   "nbconvert_exporter": "python",
   "pygments_lexer": "ipython3",
   "version": "3.8.5"
  }
 },
 "nbformat": 4,
 "nbformat_minor": 4
}
