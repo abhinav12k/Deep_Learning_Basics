{
 "cells": [
  {
   "cell_type": "code",
   "execution_count": 8,
   "metadata": {},
   "outputs": [],
   "source": [
    "import json\n",
    "from sklearn.model_selection import train_test_split\n",
    "import numpy as np\n",
    "import tensorflow.keras as keras"
   ]
  },
  {
   "cell_type": "code",
   "execution_count": 9,
   "metadata": {},
   "outputs": [],
   "source": [
    "#path to json file that stores MFCCs and labels\n",
    "DATA_PATH = \"data.json\""
   ]
  },
  {
   "cell_type": "code",
   "execution_count": 10,
   "metadata": {},
   "outputs": [],
   "source": [
    "def load_data(data_path):\n",
    "    \"\"\"Loads training dataset from json file.\n",
    "        :param data_path (str): Path to json file containing data\n",
    "        :return X (ndarray): Inputs\n",
    "        :return y (ndarray): Targets\n",
    "    \"\"\"\n",
    "    \n",
    "    with open(data_path,\"r\") as fp:\n",
    "        data = json.load(fp)\n",
    "    \n",
    "    #convert lists to numpy array\n",
    "    X = np.array(data[\"mfcc\"])\n",
    "    y = np.array(data[\"labels\"])\n",
    "    \n",
    "    print(\"Data successfully loaded\")\n",
    "    \n",
    "    return X,y"
   ]
  },
  {
   "cell_type": "code",
   "execution_count": 13,
   "metadata": {},
   "outputs": [
    {
     "name": "stdout",
     "output_type": "stream",
     "text": [
      "Data successfully loaded\n",
      "Model: \"sequential_1\"\n",
      "_________________________________________________________________\n",
      "Layer (type)                 Output Shape              Param #   \n",
      "=================================================================\n",
      "flatten_1 (Flatten)          (None, 8720)              0         \n",
      "_________________________________________________________________\n",
      "dense_4 (Dense)              (None, 512)               4465152   \n",
      "_________________________________________________________________\n",
      "dense_5 (Dense)              (None, 256)               131328    \n",
      "_________________________________________________________________\n",
      "dense_6 (Dense)              (None, 64)                16448     \n",
      "_________________________________________________________________\n",
      "dense_7 (Dense)              (None, 10)                650       \n",
      "=================================================================\n",
      "Total params: 4,613,578\n",
      "Trainable params: 4,613,578\n",
      "Non-trainable params: 0\n",
      "_________________________________________________________________\n",
      "Epoch 1/10\n",
      "219/219 [==============================] - 13s 60ms/step - loss: 7.3432 - accuracy: 0.3526 - val_loss: 5.0482 - val_accuracy: 0.3793\n",
      "Epoch 2/10\n",
      "219/219 [==============================] - 10s 46ms/step - loss: 2.9102 - accuracy: 0.4592 - val_loss: 2.8286 - val_accuracy: 0.4384\n",
      "Epoch 3/10\n",
      "219/219 [==============================] - 10s 44ms/step - loss: 1.7937 - accuracy: 0.5487 - val_loss: 2.2928 - val_accuracy: 0.4698\n",
      "Epoch 4/10\n",
      "219/219 [==============================] - 9s 43ms/step - loss: 1.3731 - accuracy: 0.6187 - val_loss: 2.1958 - val_accuracy: 0.4681\n",
      "Epoch 5/10\n",
      "219/219 [==============================] - 10s 44ms/step - loss: 1.0309 - accuracy: 0.6845 - val_loss: 1.8984 - val_accuracy: 0.5289\n",
      "Epoch 6/10\n",
      "219/219 [==============================] - 10s 47ms/step - loss: 0.8781 - accuracy: 0.7257 - val_loss: 2.1116 - val_accuracy: 0.5025\n",
      "Epoch 7/10\n",
      "219/219 [==============================] - 10s 45ms/step - loss: 0.7215 - accuracy: 0.7630 - val_loss: 2.0237 - val_accuracy: 0.5092\n",
      "Epoch 8/10\n",
      "219/219 [==============================] - 10s 47ms/step - loss: 0.7061 - accuracy: 0.7750 - val_loss: 1.8397 - val_accuracy: 0.5516\n",
      "Epoch 9/10\n",
      "219/219 [==============================] - 12s 55ms/step - loss: 0.5452 - accuracy: 0.8151 - val_loss: 1.8028 - val_accuracy: 0.5786\n",
      "Epoch 10/10\n",
      "219/219 [==============================] - 14s 65ms/step - loss: 0.4936 - accuracy: 0.8417 - val_loss: 2.0833 - val_accuracy: 0.5576\n"
     ]
    }
   ],
   "source": [
    "if __name__ ==\"__main__\":\n",
    "    \n",
    "    #load data\n",
    "    X,y = load_data(DATA_PATH)\n",
    "    \n",
    "    #create train/test split\n",
    "    X_train,X_test,y_train,y_test = train_test_split(X,y,test_size = 0.3)\n",
    "    \n",
    "    #build network topology\n",
    "    model = keras.Sequential([\n",
    "        #input layer\n",
    "        keras.layers.Flatten(input_shape = (X.shape[1],X.shape[2])),\n",
    "        \n",
    "        #1st dense layer\n",
    "        keras.layers.Dense(512,activation = \"relu\"),\n",
    "        \n",
    "        #2nd dense layer\n",
    "        keras.layers.Dense(256,activation = \"relu\"),\n",
    "        \n",
    "        #3rd dense layer\n",
    "        keras.layers.Dense(64,activation = \"relu\"),\n",
    "        \n",
    "        #output layer\n",
    "        keras.layers.Dense(10,activation = \"softmax\")\n",
    "    ])\n",
    "    \n",
    "    #compile model\n",
    "    optimizer = keras.optimizers.Adam(learning_rate=0.0001)\n",
    "    model.compile(optimizer = optimizer,loss='sparse_categorical_crossentropy',metrics=['accuracy'])\n",
    "    \n",
    "    model.summary()\n",
    "    \n",
    "    #train model\n",
    "    history = model.fit(X_train,y_train,validation_data=(X_test, y_test), batch_size=32, epochs=10)"
   ]
  },
  {
   "cell_type": "code",
   "execution_count": null,
   "metadata": {},
   "outputs": [],
   "source": []
  }
 ],
 "metadata": {
  "kernelspec": {
   "display_name": "Python 3",
   "language": "python",
   "name": "python3"
  },
  "language_info": {
   "codemirror_mode": {
    "name": "ipython",
    "version": 3
   },
   "file_extension": ".py",
   "mimetype": "text/x-python",
   "name": "python",
   "nbconvert_exporter": "python",
   "pygments_lexer": "ipython3",
   "version": "3.8.5"
  }
 },
 "nbformat": 4,
 "nbformat_minor": 4
}
