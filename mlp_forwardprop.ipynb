{
  "nbformat": 4,
  "nbformat_minor": 0,
  "metadata": {
    "colab": {
      "name": "mlp_forwardprop.ipynb",
      "provenance": []
    },
    "kernelspec": {
      "name": "python3",
      "display_name": "Python 3"
    }
  },
  "cells": [
    {
      "cell_type": "code",
      "metadata": {
        "id": "gs7Gi7D5EsSX",
        "outputId": "66d83809-9be3-4437-d66a-70d5a4f854da",
        "colab": {
          "base_uri": "https://localhost:8080/",
          "height": 52
        }
      },
      "source": [
        "import numpy as np\n",
        "\n",
        "class MLP:\n",
        "\n",
        "  def __init__(self,num_inputs=3,num_hidden=[3,5],num_outputs=2):\n",
        "\n",
        "    self.num_inputs = num_inputs \n",
        "    self.num_hidden = num_hidden\n",
        "    self.num_outputs = num_outputs\n",
        "\n",
        "    layers = [num_inputs] + num_hidden + [num_outputs]\n",
        "\n",
        "    #initiate random weights\n",
        "    self.weights = []\n",
        "\n",
        "    for i in range(len(layers)-1):\n",
        "      w = np.random.rand(layers[i],layers[i+1])\n",
        "      self.weights.append(w)\n",
        "\n",
        "  def forward_propagate(self,inputs):\n",
        "    activations = inputs\n",
        "\n",
        "    for w in self.weights:\n",
        "      #calculate net inputs\n",
        "      net_inputs = np.dot(activations,w)\n",
        "      \n",
        "      #calculate the activations\n",
        "      activations = self._sigmoid(net_inputs)\n",
        "    \n",
        "    return activations\n",
        "\n",
        "  def _sigmoid(self,x):\n",
        "    return 1.0/(1+np.exp(-x))\n",
        "\n",
        "\n",
        "if __name__ == \"__main__\":\n",
        "\n",
        "  #create MLP class\n",
        "  mlp = MLP()\n",
        "\n",
        "  #create some inputs\n",
        "  inputs = np.random.rand(mlp.num_inputs)\n",
        "\n",
        "  #perform forward prop\n",
        "  outputs = mlp.forward_propagate(inputs)\n",
        "\n",
        "  #print the results\n",
        "  print(\"The network input is: {}\".format(inputs))\n",
        "  print(\"The network output is: {}\".format(outputs))\n",
        "\n"
      ],
      "execution_count": null,
      "outputs": [
        {
          "output_type": "stream",
          "text": [
            "The network input is: [0.0015363  0.28879462 0.96218442]\n",
            "The network output is: [0.8619404  0.89377556]\n"
          ],
          "name": "stdout"
        }
      ]
    }
  ]
}